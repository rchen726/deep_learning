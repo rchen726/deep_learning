{
 "cells": [
  {
   "cell_type": "code",
   "execution_count": 3,
   "metadata": {
    "collapsed": true
   },
   "outputs": [],
   "source": [
    "import numpy as np\n",
    "import matplotlib.pyplot as plt\n",
    "import pandas as pd\n",
    "import matplotlib.pyplot as plt\n",
    "import time\n",
    "%matplotlib inline"
   ]
  },
  {
   "cell_type": "markdown",
   "metadata": {},
   "source": [
    "# 1 - Load Fashion MNIST by Pandas, exactly the same procedure as in Logistic Regression"
   ]
  },
  {
   "cell_type": "code",
   "execution_count": 4,
   "metadata": {},
   "outputs": [
    {
     "data": {
      "text/html": [
       "<div>\n",
       "<style>\n",
       "    .dataframe thead tr:only-child th {\n",
       "        text-align: right;\n",
       "    }\n",
       "\n",
       "    .dataframe thead th {\n",
       "        text-align: left;\n",
       "    }\n",
       "\n",
       "    .dataframe tbody tr th {\n",
       "        vertical-align: top;\n",
       "    }\n",
       "</style>\n",
       "<table border=\"1\" class=\"dataframe\">\n",
       "  <thead>\n",
       "    <tr style=\"text-align: right;\">\n",
       "      <th></th>\n",
       "      <th>label</th>\n",
       "      <th>pixel1</th>\n",
       "      <th>pixel2</th>\n",
       "      <th>pixel3</th>\n",
       "      <th>pixel4</th>\n",
       "      <th>pixel5</th>\n",
       "      <th>pixel6</th>\n",
       "      <th>pixel7</th>\n",
       "      <th>pixel8</th>\n",
       "      <th>pixel9</th>\n",
       "      <th>...</th>\n",
       "      <th>pixel775</th>\n",
       "      <th>pixel776</th>\n",
       "      <th>pixel777</th>\n",
       "      <th>pixel778</th>\n",
       "      <th>pixel779</th>\n",
       "      <th>pixel780</th>\n",
       "      <th>pixel781</th>\n",
       "      <th>pixel782</th>\n",
       "      <th>pixel783</th>\n",
       "      <th>pixel784</th>\n",
       "    </tr>\n",
       "  </thead>\n",
       "  <tbody>\n",
       "    <tr>\n",
       "      <th>0</th>\n",
       "      <td>2</td>\n",
       "      <td>0</td>\n",
       "      <td>0</td>\n",
       "      <td>0</td>\n",
       "      <td>0</td>\n",
       "      <td>0</td>\n",
       "      <td>0</td>\n",
       "      <td>0</td>\n",
       "      <td>0</td>\n",
       "      <td>0</td>\n",
       "      <td>...</td>\n",
       "      <td>0</td>\n",
       "      <td>0</td>\n",
       "      <td>0</td>\n",
       "      <td>0</td>\n",
       "      <td>0</td>\n",
       "      <td>0</td>\n",
       "      <td>0</td>\n",
       "      <td>0</td>\n",
       "      <td>0</td>\n",
       "      <td>0</td>\n",
       "    </tr>\n",
       "    <tr>\n",
       "      <th>1</th>\n",
       "      <td>9</td>\n",
       "      <td>0</td>\n",
       "      <td>0</td>\n",
       "      <td>0</td>\n",
       "      <td>0</td>\n",
       "      <td>0</td>\n",
       "      <td>0</td>\n",
       "      <td>0</td>\n",
       "      <td>0</td>\n",
       "      <td>0</td>\n",
       "      <td>...</td>\n",
       "      <td>0</td>\n",
       "      <td>0</td>\n",
       "      <td>0</td>\n",
       "      <td>0</td>\n",
       "      <td>0</td>\n",
       "      <td>0</td>\n",
       "      <td>0</td>\n",
       "      <td>0</td>\n",
       "      <td>0</td>\n",
       "      <td>0</td>\n",
       "    </tr>\n",
       "    <tr>\n",
       "      <th>2</th>\n",
       "      <td>6</td>\n",
       "      <td>0</td>\n",
       "      <td>0</td>\n",
       "      <td>0</td>\n",
       "      <td>0</td>\n",
       "      <td>0</td>\n",
       "      <td>0</td>\n",
       "      <td>0</td>\n",
       "      <td>5</td>\n",
       "      <td>0</td>\n",
       "      <td>...</td>\n",
       "      <td>0</td>\n",
       "      <td>0</td>\n",
       "      <td>0</td>\n",
       "      <td>30</td>\n",
       "      <td>43</td>\n",
       "      <td>0</td>\n",
       "      <td>0</td>\n",
       "      <td>0</td>\n",
       "      <td>0</td>\n",
       "      <td>0</td>\n",
       "    </tr>\n",
       "    <tr>\n",
       "      <th>3</th>\n",
       "      <td>0</td>\n",
       "      <td>0</td>\n",
       "      <td>0</td>\n",
       "      <td>0</td>\n",
       "      <td>1</td>\n",
       "      <td>2</td>\n",
       "      <td>0</td>\n",
       "      <td>0</td>\n",
       "      <td>0</td>\n",
       "      <td>0</td>\n",
       "      <td>...</td>\n",
       "      <td>3</td>\n",
       "      <td>0</td>\n",
       "      <td>0</td>\n",
       "      <td>0</td>\n",
       "      <td>0</td>\n",
       "      <td>1</td>\n",
       "      <td>0</td>\n",
       "      <td>0</td>\n",
       "      <td>0</td>\n",
       "      <td>0</td>\n",
       "    </tr>\n",
       "    <tr>\n",
       "      <th>4</th>\n",
       "      <td>3</td>\n",
       "      <td>0</td>\n",
       "      <td>0</td>\n",
       "      <td>0</td>\n",
       "      <td>0</td>\n",
       "      <td>0</td>\n",
       "      <td>0</td>\n",
       "      <td>0</td>\n",
       "      <td>0</td>\n",
       "      <td>0</td>\n",
       "      <td>...</td>\n",
       "      <td>0</td>\n",
       "      <td>0</td>\n",
       "      <td>0</td>\n",
       "      <td>0</td>\n",
       "      <td>0</td>\n",
       "      <td>0</td>\n",
       "      <td>0</td>\n",
       "      <td>0</td>\n",
       "      <td>0</td>\n",
       "      <td>0</td>\n",
       "    </tr>\n",
       "  </tbody>\n",
       "</table>\n",
       "<p>5 rows × 785 columns</p>\n",
       "</div>"
      ],
      "text/plain": [
       "   label  pixel1  pixel2  pixel3  pixel4  pixel5  pixel6  pixel7  pixel8  \\\n",
       "0      2       0       0       0       0       0       0       0       0   \n",
       "1      9       0       0       0       0       0       0       0       0   \n",
       "2      6       0       0       0       0       0       0       0       5   \n",
       "3      0       0       0       0       1       2       0       0       0   \n",
       "4      3       0       0       0       0       0       0       0       0   \n",
       "\n",
       "   pixel9    ...     pixel775  pixel776  pixel777  pixel778  pixel779  \\\n",
       "0       0    ...            0         0         0         0         0   \n",
       "1       0    ...            0         0         0         0         0   \n",
       "2       0    ...            0         0         0        30        43   \n",
       "3       0    ...            3         0         0         0         0   \n",
       "4       0    ...            0         0         0         0         0   \n",
       "\n",
       "   pixel780  pixel781  pixel782  pixel783  pixel784  \n",
       "0         0         0         0         0         0  \n",
       "1         0         0         0         0         0  \n",
       "2         0         0         0         0         0  \n",
       "3         1         0         0         0         0  \n",
       "4         0         0         0         0         0  \n",
       "\n",
       "[5 rows x 785 columns]"
      ]
     },
     "execution_count": 4,
     "metadata": {},
     "output_type": "execute_result"
    }
   ],
   "source": [
    "TRAIN_FILE = '../fashionmnist/fashion-mnist_train.csv'\n",
    "TEST_FILE = '../fashionmnist/fashion-mnist_test.csv'\n",
    "train_data = pd.read_csv(TRAIN_FILE)\n",
    "test_data = pd.read_csv(TEST_FILE)\n",
    "train_data.head()"
   ]
  },
  {
   "cell_type": "code",
   "execution_count": 5,
   "metadata": {},
   "outputs": [
    {
     "name": "stdout",
     "output_type": "stream",
     "text": [
      "pixel value max= 255\n",
      "total number of training examples = 60000 , number of pixels = 784\n"
     ]
    }
   ],
   "source": [
    "X_train_all = np.array(train_data.iloc[:, 1:])\n",
    "print('pixel value max=', np.max(X_train_all))\n",
    "X_train_all = X_train_all/ 255\n",
    "m_train_all = X_train_all.shape[0]\n",
    "num_px = X_train_all.shape[1]\n",
    "num_class = 10\n",
    "y_train_all = np.array(train_data.iloc[:, 0], dtype = 'uint8').reshape(-1,1)\n",
    "print('total number of training examples =', m_train_all, ', number of pixels =', num_px)"
   ]
  },
  {
   "cell_type": "code",
   "execution_count": 6,
   "metadata": {},
   "outputs": [
    {
     "name": "stdout",
     "output_type": "stream",
     "text": [
      "X_train shape (784, 5000) y_train shape (1, 5000)\n",
      "number of training examples used: 5000\n"
     ]
    }
   ],
   "source": [
    "#To speed up calculation, only 5000 out of 60000 examples will be used as training set\n",
    "#Although the original data are already random, still shuffle them for general purpose\n",
    "m_train = 5000\n",
    "np.random.seed( 3 )\n",
    "permutation = list(np.random.permutation(m_train_all))\n",
    "shuffled_X = X_train_all[permutation, :]\n",
    "shuffled_y = y_train_all[permutation,:]\n",
    "X_train = shuffled_X[0:m_train,:].T\n",
    "y_train = shuffled_y[0:m_train,:].T\n",
    "print('X_train shape', X_train.shape, 'y_train shape', y_train.shape)\n",
    "print('number of training examples used:', X_train.shape[1])"
   ]
  },
  {
   "cell_type": "code",
   "execution_count": 7,
   "metadata": {},
   "outputs": [
    {
     "name": "stdout",
     "output_type": "stream",
     "text": [
      "X_test shape: (784, 10000) y_test shape: (1, 10000)\n"
     ]
    }
   ],
   "source": [
    "X_test = np.array(test_data.iloc[:, 1:])\n",
    "y_test = np.array(test_data.iloc[:, 0], dtype = 'uint8').reshape(-1,1)\n",
    "X_test = X_test.T\n",
    "y_test = y_test.T\n",
    "print('X_test shape:', X_test.shape, 'y_test shape:', y_test.shape)"
   ]
  },
  {
   "cell_type": "markdown",
   "metadata": {},
   "source": [
    "# 2 - Neural Networks "
   ]
  },
  {
   "cell_type": "markdown",
   "metadata": {},
   "source": [
    "### He initialization"
   ]
  },
  {
   "cell_type": "code",
   "execution_count": 8,
   "metadata": {
    "collapsed": true
   },
   "outputs": [],
   "source": [
    "layers_dims = [X_train.shape[0], 50, 20, num_class]\n",
    "#l=0 is always called 'init', just correspond to X\n",
    "# In this problem, L = 3, l=0 just X, l=1,2 Relu, l=3 softmax\n",
    "activations = ['init','Relu','Relu','softmax']\n",
    "\n",
    "def initialize_parameters_he(layers_dims):    \n",
    "    np.random.seed(3)\n",
    "    paras = {}\n",
    "    L = len(layers_dims) - 1 # integer representing the number of layers\n",
    "\n",
    "    for l in range(1, L + 1):\n",
    "        paras['W' + str(l)] = np.random.randn(layers_dims[l],layers_dims[l-1]) * np.sqrt(2/layers_dims[l-1])\n",
    "        paras['b' + str(l)] = np.zeros((layers_dims[l],1))\n",
    "        \n",
    "    return paras"
   ]
  },
  {
   "cell_type": "markdown",
   "metadata": {},
   "source": [
    "### Activation functions and derivatives"
   ]
  },
  {
   "cell_type": "code",
   "execution_count": 9,
   "metadata": {
    "collapsed": true
   },
   "outputs": [],
   "source": [
    "def soft_max(Z):\n",
    "    # substract Z by max(Z) to avoid numerical blowing up\n",
    "    # although usually each number of Z shouldn't be too big\n",
    "    Z -= np.max(Z,axis=0)\n",
    "    A = np.exp(Z)\n",
    "    norm_A = np.sum(A, axis = 0, keepdims = True)\n",
    "    softmax = A/norm_A\n",
    "    return softmax\n",
    "\n",
    "def Relu(Z):\n",
    "    res = np.maximum(0, Z)\n",
    "    return res\n",
    "\n",
    "def Relu_backward(Z):\n",
    "    Z[Z>0] = 1\n",
    "    Z[Z<=0] = 0\n",
    "    return Z"
   ]
  },
  {
   "cell_type": "markdown",
   "metadata": {},
   "source": [
    "### Forward propagation"
   ]
  },
  {
   "cell_type": "code",
   "execution_count": 10,
   "metadata": {
    "collapsed": true
   },
   "outputs": [],
   "source": [
    "def linear_activation_forward(Wl, bl, Alminus1, activation):\n",
    "    Zl = np.dot(Wl, Alminus1) + bl\n",
    "    if activation == 'Relu':\n",
    "        Al = Relu(Zl)\n",
    "    elif activation == 'softmax':\n",
    "        Al = soft_max(Zl)     \n",
    "    cache = (Zl, Alminus1)\n",
    "    return Al, cache\n",
    "\n",
    "def forward_propagation(paras, X, activations):\n",
    "    L = len(paras)//2\n",
    "    #initialize at l=0, cache at l = 0 is never used, assigning values to keep index   \n",
    "    #store (Zl, Al-1) for each l, they're going to be used in backward propagation\n",
    "    caches = [(0,0)]\n",
    "    #A0 = X\n",
    "    Alminus1 = X\n",
    "    for l in range(1,L+1):\n",
    "        #print('A'+str(l-1)+' dimension = ', Alminus1.shape)\n",
    "        activation = activations[l]\n",
    "        Al, cache = linear_activation_forward(paras['W'+str(l)], paras['b'+str(l)], Alminus1, activation)\n",
    "        caches.append(cache)\n",
    "        \n",
    "        #update A for next step\n",
    "        Alminus1 = Al\n",
    "        #print('A'+str(l)+' dimension = ', Al.shape)\n",
    "    AL = Al\n",
    "    return AL, caches"
   ]
  },
  {
   "cell_type": "markdown",
   "metadata": {},
   "source": [
    "### Cost function with regularization"
   ]
  },
  {
   "cell_type": "code",
   "execution_count": 11,
   "metadata": {
    "collapsed": true
   },
   "outputs": [],
   "source": [
    "def regularization(paras, lambd, m):\n",
    "    L = len(paras)//2\n",
    "    reg = 0\n",
    "    for l in range(1,L+1):\n",
    "        Wl = paras['W' + str(l)]\n",
    "        reg += np.sum(Wl*Wl)\n",
    "    reg *= lambd/2/m \n",
    "    return reg\n",
    "                \n",
    "\n",
    "def compute_cost_softmax_reg(AL, y, paras, lambd):\n",
    "    m = y.shape[1]\n",
    "    L = len(paras)//2    \n",
    "    reg = regularization(paras, lambd, m)\n",
    "    cost = -1/m * np.sum(np.log(AL[y, range(m)]),axis = 1)\n",
    "    cost += reg\n",
    "    cost = np.squeeze(cost)\n",
    "    return cost"
   ]
  },
  {
   "cell_type": "markdown",
   "metadata": {},
   "source": [
    "### Backward propagation"
   ]
  },
  {
   "cell_type": "code",
   "execution_count": 12,
   "metadata": {
    "collapsed": true
   },
   "outputs": [],
   "source": [
    "def cost_one_layer_backward(y, AL, cache, para, activation, lambd):\n",
    "    WL = para\n",
    "    (ZL, ALminus1) = cache\n",
    "    m = y.shape[1]\n",
    "    if activation == 'softmax':\n",
    "        dZL = AL   \n",
    "        dZL[y, range(m)] -= 1    \n",
    "    \n",
    "    dWL = 1/m* np.dot(dZL, ALminus1.T)\n",
    "    dWL += lambd/m * WL    \n",
    "    dbL = 1/m * np.sum(dZL, axis=1, keepdims = True)\n",
    "     \n",
    "    return dZL, dWL, dbL\n",
    "\n",
    "\n",
    "def one_layer_backward(dZlplus1, cache, para, activation, lambd):\n",
    "    (Wlplus1, Wl) = para\n",
    "    (Zl, Alminus1) = cache\n",
    "    if activation == 'Relu':\n",
    "        dZl = np.dot(Wlplus1.T, dZlplus1) * Relu_backward(Zl)\n",
    "        \n",
    "    m = dZl.shape[1]        \n",
    "    dWl = 1/m* np.dot(dZl, Alminus1.T)\n",
    "    dWl += lambd/m * Wl    \n",
    "    dbl = 1/m * np.sum(dZl, axis=1, keepdims = True)\n",
    "     \n",
    "    return dZl, dWl, dbl\n",
    "\n",
    "def backward_propagation(y, AL, paras, caches, activations, lambd):\n",
    "    L = len(paras)//2\n",
    "    grads = {}\n",
    "    \n",
    "    for l in reversed(range(1, L+1)):\n",
    "        cache = caches[l]\n",
    "        activation = activations[l]\n",
    "        if l ==  L:\n",
    "            para = paras['W'+str(l)]\n",
    "            dZl, dWl, dbl = cost_one_layer_backward(y, AL, cache, para, activation, lambd)\n",
    "        else:\n",
    "            para = (paras['W'+str(l+1)],paras['W'+str(l)])\n",
    "            dZl, dWl, dbl = one_layer_backward(dZl, cache, para, activation, lambd)\n",
    "        \n",
    "        grads['dW'+str(l)] = dWl\n",
    "        grads['db'+str(l)] = dbl\n",
    "            \n",
    "    return grads\n",
    "\n",
    "def update_paras_with_gd(paras,grads, learning_rate):\n",
    "    L = len(paras)//2\n",
    "    new_paras = {}\n",
    "    for l in range(1,L+1):\n",
    "        Wl = paras['W'+str(l)]\n",
    "        bl = paras['b'+str(l)]\n",
    "        dWl = grads['dW'+str(l)]\n",
    "        dbl = grads['db'+str(l)]\n",
    "        Wl = Wl - learning_rate * dWl\n",
    "        bl = bl - learning_rate * dbl    \n",
    "        new_paras['W'+str(l)] = Wl\n",
    "        new_paras['b'+str(l)] = bl\n",
    "    return new_paras"
   ]
  },
  {
   "cell_type": "markdown",
   "metadata": {},
   "source": [
    "### Cost optimization and predict function"
   ]
  },
  {
   "cell_type": "code",
   "execution_count": 13,
   "metadata": {
    "collapsed": true
   },
   "outputs": [],
   "source": [
    "def optimize(paras, X, y, lambd, num_iter, learning_rate):\n",
    "    costs = []\n",
    "    for i in range(num_iter):\n",
    "        AL, caches = forward_propagation(paras, X, activations)\n",
    "        cost = compute_cost_softmax_reg(AL, y, paras, lambd)\n",
    "        grads = backward_propagation(y, AL, paras, caches, activations, lambd)\n",
    "\n",
    "        paras = update_paras_with_gd(paras, grads, learning_rate)\n",
    "        \n",
    "        costs.append(cost)\n",
    "\n",
    "    return costs, paras\n",
    "\n",
    "def predict_accuracy(paras, X, y,activations):\n",
    "    L = len(paras)//2\n",
    "    #A0 = X\n",
    "    Al = X\n",
    "    for l in range(1,L+1):\n",
    "        activation = activations[l]\n",
    "        Al, _ = linear_activation_forward(paras['W'+str(l)], paras['b'+str(l)], Al, activation)\n",
    "\n",
    "    AL = Al    \n",
    "    \n",
    "    predicted_class = np.argmax(AL, axis=0)\n",
    "    accuracy = np.mean(predicted_class == y)\n",
    "    return accuracy"
   ]
  },
  {
   "cell_type": "markdown",
   "metadata": {},
   "source": [
    "### Running the batch"
   ]
  },
  {
   "cell_type": "code",
   "execution_count": 16,
   "metadata": {},
   "outputs": [
    {
     "name": "stdout",
     "output_type": "stream",
     "text": [
      "learning rate = 1.0E-01\n",
      "train accuracy: 0.881\n",
      "test accuracy: 0.751\n",
      "---------------------\n",
      "learning rate = 5.0E-02\n",
      "train accuracy: 0.871\n",
      "test accuracy: 0.764\n",
      "---------------------\n",
      "learning rate = 1.0E-02\n",
      "train accuracy: 0.814\n",
      "test accuracy: 0.756\n",
      "---------------------\n"
     ]
    },
    {
     "data": {
      "image/png": "[encoded data removed]",
      "text/plain": [
       "<matplotlib.figure.Figure at 0x12e050f60>"
      ]
     },
     "metadata": {},
     "output_type": "display_data"
    }
   ],
   "source": [
    "learning_rates = [1e-1, 5*1e-2, 1e-2]\n",
    "lambd = 0.01\n",
    "for rate in learning_rates:\n",
    "    paras = initialize_parameters_he(layers_dims)\n",
    "    costs, paras = optimize(paras, X_train, y_train, lambd, num_iter = 1000, learning_rate = rate)\n",
    "    plt.plot(np.squeeze(costs), label = '%.1E' %rate)\n",
    "    \n",
    "    print('learning rate = %.1E' %rate)\n",
    "    accuracy = predict_accuracy(paras, X_train, y_train,activations)\n",
    "    print('train accuracy: %.3f' %accuracy)\n",
    "    accuracy = predict_accuracy(paras, X_test, y_test,activations)\n",
    "    print('test accuracy: %.3f' %accuracy)\n",
    "    print('---------------------')\n",
    "\n",
    "plt.ylabel('cost')\n",
    "plt.xlabel('number of iteration')\n",
    "plt.title(\"Cost function with different learning rates\" )\n",
    "legend = plt.legend(loc='upper center', shadow=True)\n",
    "axes = plt.gca()\n",
    "axes.set_ylim([0,3])\n",
    "plt.show()"
   ]
  },
  {
   "cell_type": "code",
   "execution_count": null,
   "metadata": {
    "collapsed": true
   },
   "outputs": [],
   "source": []
  }
 ],
 "metadata": {
  "kernelspec": {
   "display_name": "Python 3",
   "language": "python",
   "name": "python3"
  },
  "language_info": {
   "codemirror_mode": {
    "name": "ipython",
    "version": 3
   },
   "file_extension": ".py",
   "mimetype": "text/x-python",
   "name": "python",
   "nbconvert_exporter": "python",
   "pygments_lexer": "ipython3",
   "version": "3.6.1"
  }
 },
 "nbformat": 4,
 "nbformat_minor": 2
}
